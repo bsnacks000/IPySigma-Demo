{
 "cells": [
  {
   "cell_type": "markdown",
   "metadata": {},
   "source": [
    "## Data pull from ADS\n",
    "Focusing in on 50 most highly cited astronomy papers from the last 5 years"
   ]
  },
  {
   "cell_type": "code",
   "execution_count": 117,
   "metadata": {
    "collapsed": true
   },
   "outputs": [],
   "source": [
    "import networkx as nx\n",
    "import os\n",
    "import ads as ads \n",
    "import matplotlib.pyplot as plt\n",
    "import pandas as pd\n",
    "from networkx.algorithms import bipartite as bi"
   ]
  },
  {
   "cell_type": "code",
   "execution_count": 118,
   "metadata": {
    "collapsed": true
   },
   "outputs": [],
   "source": [
    "os.environ[\"ADS_DEV_KEY\"] = \"kNUoTurJ5TXV9hsw9KQN1k8wH4U0D7Oy0CJoOvyw\""
   ]
  },
  {
   "cell_type": "code",
   "execution_count": 119,
   "metadata": {
    "collapsed": true
   },
   "outputs": [],
   "source": [
    "ads.config.token = 'ADS_DEV_KEY' "
   ]
  },
  {
   "cell_type": "code",
   "execution_count": 120,
   "metadata": {
    "collapsed": false
   },
   "outputs": [],
   "source": [
    "#Search for papers \n",
    "# 50 most cited papers recent papers\n",
    "papers1 = list(ads.SearchQuery(q=\"*\",\n",
    "                               sort=\"citation_count desc\",\n",
    "                               year=\"2012, 2013, 2014, 2015, 2016, 2017\",\n",
    "                               rows=50 ))"
   ]
  },
  {
   "cell_type": "code",
   "execution_count": 121,
   "metadata": {
    "collapsed": false
   },
   "outputs": [],
   "source": [
    "# find author names\n",
    "a = []\n",
    "for i in papers1:\n",
    "    authors1 = i.author\n",
    "    a.append(authors1)\n",
    "author_names = a"
   ]
  },
  {
   "cell_type": "code",
   "execution_count": 122,
   "metadata": {
    "collapsed": false
   },
   "outputs": [],
   "source": [
    "# find the journals\n",
    "j = []\n",
    "for i in papers1:\n",
    "    journals1 = i.pub\n",
    "    j.append(journals1)\n",
    "journals = j"
   ]
  },
  {
   "cell_type": "code",
   "execution_count": 123,
   "metadata": {
    "collapsed": false
   },
   "outputs": [],
   "source": [
    "# find year of publication\n",
    "y = []\n",
    "for i in papers1:\n",
    "    year1 = i.year\n",
    "    y.append(year1)\n",
    "year = y"
   ]
  },
  {
   "cell_type": "code",
   "execution_count": 124,
   "metadata": {
    "collapsed": false
   },
   "outputs": [],
   "source": [
    "# find titles\n",
    "t = []\n",
    "for i in papers1:\n",
    "    title1 = i.title\n",
    "    t.append(title1)\n",
    "title = t"
   ]
  },
  {
   "cell_type": "code",
   "execution_count": 125,
   "metadata": {
    "collapsed": false
   },
   "outputs": [],
   "source": [
    "# find keywords\n",
    "k = []\n",
    "for i in papers1:\n",
    "    keyword1 = i.keyword\n",
    "    k.append(keyword1)\n",
    "keyword = k"
   ]
  },
  {
   "cell_type": "code",
   "execution_count": 126,
   "metadata": {
    "collapsed": false
   },
   "outputs": [],
   "source": [
    "# create an initial df\n",
    "df = pd.DataFrame({'Author_Names' : author_names,\n",
    "                   'Journal':journals,\n",
    "                   'Year':year,\n",
    "                   'Title':title,\n",
    "                   'Keyword':keyword\n",
    "  })"
   ]
  },
  {
   "cell_type": "code",
   "execution_count": 127,
   "metadata": {
    "collapsed": false
   },
   "outputs": [
    {
     "name": "stdout",
     "output_type": "stream",
     "text": [
      "(34780, 5)\n"
     ]
    }
   ],
   "source": [
    "# Expand the df with melt\n",
    "s1 = df.apply(lambda x: pd.Series(x['Author_Names']),axis=1).stack().reset_index(level=1, drop=True)\n",
    "s1.name = 'Author_Name'\n",
    "s2 = df.apply(lambda x: pd.Series(x['Title']),axis=1).stack().reset_index(level=1, drop=True)\n",
    "s2.name = 'Title'\n",
    "s3 = df.apply(lambda x: pd.Series(x['Keyword']),axis=1).stack().reset_index(level=1, drop=True)\n",
    "s3.name = 'Keyword'\n",
    "df_m = df.drop(['Author_Names','Title', 'Keyword'], axis=1).join(s1)\n",
    "df_m = df_m.join(s2)\n",
    "df_m = df_m.join(s3)\n",
    "\n",
    "print df_m.shape"
   ]
  },
  {
   "cell_type": "code",
   "execution_count": 128,
   "metadata": {
    "collapsed": false
   },
   "outputs": [],
   "source": [
    "df_m.to_csv('top_50.csv', sep=',', encoding='utf-8')"
   ]
  },
  {
   "cell_type": "code",
   "execution_count": 129,
   "metadata": {
    "collapsed": false
   },
   "outputs": [],
   "source": [
    "G=nx.from_pandas_dataframe(df_m, 'Journal', 'Author_Name', ['Title', 'Year', 'Keyword'])"
   ]
  },
  {
   "cell_type": "code",
   "execution_count": 130,
   "metadata": {
    "collapsed": false
   },
   "outputs": [],
   "source": [
    "# Weighted Projections/Clustering\n",
    "# Largest most connected graph - 200 cut-off \n",
    "big_subg = [i for i in nx.connected_component_subgraphs(G) if len(i) > 200]\n",
    "# Largest:\n",
    "sg_largest = big_subg[0] # largest connected subgraph\n",
    "\n",
    "# weighted_projections applied to subgraph to separate the two components\n",
    "Journals,Author_Names = bi.sets(sg_largest)  # split into bipartites\n",
    "j_proj_sg_largest = bi.weighted_projected_graph(sg_largest, Journals) \n",
    "a_proj_sg_largest = bi.weighted_projected_graph(sg_largest, Author_Names)\n",
    "\n",
    "j = j_proj_sg_largest.edges(data=True) \n",
    "a = a_proj_sg_largest.edges(data=True)"
   ]
  },
  {
   "cell_type": "code",
   "execution_count": 131,
   "metadata": {
    "collapsed": true
   },
   "outputs": [],
   "source": [
    "# Island Method \n",
    "def trim(g):\n",
    "    g_temp = nx.Graph()\n",
    "    edge_bunch = [i for i in g.edges(data=True)]    \n",
    "    g_temp.add_edges_from(edge_bunch)\n",
    "    return g_temp\n",
    "a_sg_island =  trim(a_proj_sg_largest)\n",
    "j_sg_island = trim(j_proj_sg_largest)\n"
   ]
  },
  {
   "cell_type": "code",
   "execution_count": 132,
   "metadata": {
    "collapsed": false
   },
   "outputs": [],
   "source": [
    "#centrality\n",
    "a_degree = nx.degree_centrality(a_sg_island)\n",
    "j_degree = nx.degree_centrality(j_sg_island)"
   ]
  },
  {
   "cell_type": "code",
   "execution_count": 133,
   "metadata": {
    "collapsed": false
   },
   "outputs": [
    {
     "name": "stdout",
     "output_type": "stream",
     "text": [
      "12\n",
      "7268\n"
     ]
    }
   ],
   "source": [
    "print a_sg_island.number_of_nodes()\n",
    "print j_sg_island.number_of_nodes()"
   ]
  },
  {
   "cell_type": "code",
   "execution_count": 135,
   "metadata": {
    "collapsed": false
   },
   "outputs": [
    {
     "name": "stdout",
     "output_type": "stream",
     "text": [
      "12\n"
     ]
    },
    {
     "data": {
      "text/plain": [
       "{u'ArXiv e-prints': 0.2727272727272727,\n",
       " u'European Physical Journal C': 0.09090909090909091,\n",
       " u'Nature': 0.18181818181818182,\n",
       " u'Nature Nanotechnology': 0.09090909090909091,\n",
       " u'Nature Photonics': 0.18181818181818182,\n",
       " u'Physical Review D': 0.2727272727272727,\n",
       " u'Physical Review Letters': 0.7272727272727273,\n",
       " u'Physics Letters B': 0.5454545454545454,\n",
       " u'Science': 0.2727272727272727,\n",
       " u'Solar Physics': 0.18181818181818182,\n",
       " u'The Astrophysical Journal': 0.18181818181818182,\n",
       " u'The Astrophysical Journal Supplement Series': 0.09090909090909091}"
      ]
     },
     "execution_count": 135,
     "metadata": {},
     "output_type": "execute_result"
    }
   ],
   "source": [
    "print len(a_degree) # 12 journals\n",
    "a_degree"
   ]
  },
  {
   "cell_type": "code",
   "execution_count": 136,
   "metadata": {
    "collapsed": false
   },
   "outputs": [
    {
     "data": {
      "text/plain": [
       "7268"
      ]
     },
     "execution_count": 136,
     "metadata": {},
     "output_type": "execute_result"
    }
   ],
   "source": [
    "len(j_degree) # 7268 authors"
   ]
  },
  {
   "cell_type": "code",
   "execution_count": null,
   "metadata": {
    "collapsed": false
   },
   "outputs": [],
   "source": [
    "%matplotlib inline\n",
    "nx.draw(a_sg_island,pos=nx.spring_layout(G)) # use spring layout"
   ]
  },
  {
   "cell_type": "code",
   "execution_count": null,
   "metadata": {
    "collapsed": true
   },
   "outputs": [],
   "source": []
  }
 ],
 "metadata": {
  "anaconda-cloud": {},
  "kernelspec": {
   "display_name": "Python [Root]",
   "language": "python",
   "name": "Python [Root]"
  },
  "language_info": {
   "codemirror_mode": {
    "name": "ipython",
    "version": 2
   },
   "file_extension": ".py",
   "mimetype": "text/x-python",
   "name": "python",
   "nbconvert_exporter": "python",
   "pygments_lexer": "ipython2",
   "version": "2.7.9"
  }
 },
 "nbformat": 4,
 "nbformat_minor": 0
}
