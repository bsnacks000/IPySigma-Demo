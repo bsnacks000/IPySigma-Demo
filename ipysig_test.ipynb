{
 "cells": [
  {
   "cell_type": "markdown",
   "metadata": {},
   "source": [
    "### Welcome to the Demo - v0.1.4\n",
    "This notebook provides a simulated workflow for using IPySigma with networkx.\n",
    "\n",
    "We only need to import one class, IPySig, the main controller object along with networkx.\n"
   ]
  },
  {
   "cell_type": "code",
   "execution_count": 1,
   "metadata": {},
   "outputs": [
    {
     "name": "stdout",
     "output_type": "stream",
     "text": [
      "INFO:root:Generating grammar tables from /usr/lib/python2.7/lib2to3/Grammar.txt\n",
      "INFO:root:Generating grammar tables from /usr/lib/python2.7/lib2to3/PatternGrammar.txt\n"
     ]
    }
   ],
   "source": [
    "# notebook to simulate a jupyter working environment\n",
    "# the python module gets imported here...\n",
    "from ipysig.core import IPySig\n",
    "import networkx as nx\n"
   ]
  },
  {
   "cell_type": "markdown",
   "metadata": {},
   "source": [
    "To start, we only need to import the IPySig object from the ipysig.core package. This is a singleton controller class that manages our sigma.js visualization connections. The root directory of the node.js app is passed in on instantiation. \n",
    "\n",
    "If the demo notebook is being run inside the repo, this directory is simply './app', but in production this would change to wherever the user installed the node app on their system. \n",
    "\n",
    "If all goes well, IPySig will initialize the express server and print the PID number for the running process. \n",
    "\n",
    "On instantiation, the API also injects a set of custom methods onto the nx.Graph class which allows the controller to interface with the graph object and reshape the networkx object into a format suitable both for web socket transfer across the node server and readable by Sigma.js on the frontend.\n"
   ]
  },
  {
   "cell_type": "code",
   "execution_count": 2,
   "metadata": {},
   "outputs": [
    {
     "name": "stdout",
     "output_type": "stream",
     "text": [
      "node ./app/index.js --baseUrl http://localhost:8888/ --token=6e968baaafc0c7e8116622cbe24d49fc90b3ca9502808dc5\n",
      "loading express... \n",
      "IPySig express has started... PID: 3613\n"
     ]
    }
   ],
   "source": [
    "ctrl = IPySig('./app') # note this should point to the root folder of the express app"
   ]
  },
  {
   "cell_type": "markdown",
   "metadata": {},
   "source": [
    "Let's make a network graph from the stars dataset. This was a custom search from the NASA ADS api and contains relationships between authors and journals for the keyword search \"stars\".\n",
    "\n",
    "To bring up the visualization tabs we pass in the object instance and a unique identifier to the controllers `connect` method. This key name is important because it binds the browser tab's socket id to a reference of the object.\n",
    "\n",
    "After executing each cell the visualization tab should open and by entering a `title name` for the graph pressing `Load Graph`, the graph visualization object should appear. This object reference is stored both in the IPySig controller instance and in the browser via a Loki.js datastore.\n",
    "\n",
    "In our current demo, v0.1.0, we can only store one graph at a time per session.\n",
    "\n",
    "### Loading the Stars Dataset\n"
   ]
  },
  {
   "cell_type": "code",
   "execution_count": 3,
   "metadata": {
    "collapsed": true
   },
   "outputs": [],
   "source": [
    "import pickle\n",
    "import os\n",
    "\n",
    "pkl_g = os.path.abspath(os.path.join('.','IPySig_demo_data', 'stars_test_graph.pkl'))\n",
    "stars_graph = pickle.load(open(pkl_g, \"rb\" )) "
   ]
  },
  {
   "cell_type": "markdown",
   "metadata": {},
   "source": [
    "The stars_graph was saved earlier and loaded via pickle for convenience, but nx graphs can obviously be created on the fly, loaded from a database or csv or come into the notebook from any other data source.\n",
    "\n",
    "In order to get the most out of IPySigma, certain node and edge list attributes need to be added to the graph object. The sigma graph loader looks for a few key headers that the user needs to provide. The keyword \"label\" provides the visible label for each node and \"node_type\" is used to cataegorize each node and set color attributes.\n",
    "\n",
    "Note that the system will still work without these labels, however, the user will lose some of the nicest features of Sigma.js.\n"
   ]
  },
  {
   "cell_type": "code",
   "execution_count": null,
   "metadata": {},
   "outputs": [],
   "source": [
    "stars_graph.nodes(data=True)[:5]"
   ]
  },
  {
   "cell_type": "code",
   "execution_count": null,
   "metadata": {},
   "outputs": [],
   "source": [
    "stars_graph.edges(data=True)[:10]"
   ]
  },
  {
   "cell_type": "markdown",
   "metadata": {},
   "source": [
    "### Connecting the graph\n",
    "\n",
    "We connect the graph to a new browser session by calling the \"connect\" method on the controller and passing in the object and a key-name for the graph object. \n",
    "\n",
    "This method call spins up a browser tab and binds the web socket to this graph instance.\n",
    "\n",
    "From this point, we can provide a graph name in the browser tab and hit the load_graph button. This sends a signal to IPySig to call the `export_graph_instance()` method and jsonify the result.\n",
    "\n",
    "This method call essentially packages our networkx object and adds attributes to the graph instance that is needed by Sigma.js. It also adds some centrality measures for free, along with any other user given attributes.\n",
    "\n",
    "The user can now explore the nodes of the graph freely in the browser tab and get node information by toggling a simple jquery based inspector. \n"
   ]
  },
  {
   "cell_type": "code",
   "execution_count": 4,
   "metadata": {},
   "outputs": [
    {
     "name": "stdout",
     "output_type": "stream",
     "text": [
      "Node received: stars\n"
     ]
    }
   ],
   "source": [
    "ctrl.connect(stars_graph,'stars')"
   ]
  },
  {
   "cell_type": "markdown",
   "metadata": {},
   "source": [
    "Quite a bit of functionality for our IPySig controller and node application is still under development.\n",
    "\n",
    "Our current demo does not yet support disconnect/reconnect methods and auto-kill of the server process when the kernel is accidentally or unexpectedly shuts down. Also some care needs to be taken in the current version so that the controller has a chance to boot the express server before a browser tab and web socket connection is open. \n",
    "\n",
    "Future implementation will also include the ability to store multiple graphs in a single browser session tab, by storing names in an in memory datastore.\n",
    "\n",
    "To cleanly exit the application for now we need to kill the express process manually.  "
   ]
  },
  {
   "cell_type": "code",
   "execution_count": null,
   "metadata": {
    "collapsed": true
   },
   "outputs": [],
   "source": []
  },
  {
   "cell_type": "markdown",
   "metadata": {
    "collapsed": true
   },
   "source": [
    "### Just for fun a random graph...\n",
    "\n",
    "Connecting a new graph will spin it up in a new tab. Without adding labels and node_types to the graph, default values are used."
   ]
  },
  {
   "cell_type": "code",
   "execution_count": 5,
   "metadata": {},
   "outputs": [
    {
     "name": "stdout",
     "output_type": "stream",
     "text": [
      "Node received: newman_watts\n"
     ]
    }
   ],
   "source": [
    "\n",
    "G = nx.random_graphs.newman_watts_strogatz_graph(80,15,0.2)\n",
    "ctrl.connect(G, 'newman_watts')"
   ]
  },
  {
   "cell_type": "code",
   "execution_count": null,
   "metadata": {},
   "outputs": [],
   "source": [
    "ctrl.kill_express_process()"
   ]
  },
  {
   "cell_type": "code",
   "execution_count": null,
   "metadata": {
    "collapsed": true
   },
   "outputs": [],
   "source": []
  },
  {
   "cell_type": "code",
   "execution_count": null,
   "metadata": {
    "collapsed": true
   },
   "outputs": [],
   "source": []
  },
  {
   "cell_type": "code",
   "execution_count": null,
   "metadata": {
    "collapsed": true
   },
   "outputs": [],
   "source": []
  },
  {
   "cell_type": "code",
   "execution_count": null,
   "metadata": {
    "collapsed": true
   },
   "outputs": [],
   "source": []
  },
  {
   "cell_type": "code",
   "execution_count": null,
   "metadata": {
    "collapsed": true
   },
   "outputs": [],
   "source": []
  }
 ],
 "metadata": {
  "kernelspec": {
   "display_name": "Python 2",
   "language": "python",
   "name": "python2"
  },
  "language_info": {
   "codemirror_mode": {
    "name": "ipython",
    "version": 2
   },
   "file_extension": ".py",
   "mimetype": "text/x-python",
   "name": "python",
   "nbconvert_exporter": "python",
   "pygments_lexer": "ipython2",
   "version": "2.7.10"
  }
 },
 "nbformat": 4,
 "nbformat_minor": 2
}
