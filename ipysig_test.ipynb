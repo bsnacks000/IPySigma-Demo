{
 "cells": [
  {
   "cell_type": "markdown",
   "metadata": {},
   "source": [
    "### Welcome to the Demo - v0.1.0\n",
    "This notebook provides a simulated workflow for using IPySigma with networkx."
   ]
  },
  {
   "cell_type": "code",
   "execution_count": 1,
   "metadata": {
    "collapsed": true
   },
   "outputs": [],
   "source": [
    "# notebook to simulate a jupyter working environment\n",
    "# the python module gets imported here...\n",
    "from ipysig.core import IPySig\n",
    "import networkx as nx\n"
   ]
  },
  {
   "cell_type": "markdown",
   "metadata": {},
   "source": [
    "To start, we only need to import the IPySig object from the ipysig.core package. This is a singleton controller class that manages our sigma.js visualization connections. The root directory of the node.js app is passed in on instantiation. \n",
    "\n",
    "If the demo notebook is being run inside the repo, this directory is simply './app', but in production this would change to wherever the user installed the node app on their system. \n",
    "\n",
    "If all goes well, IPySig will initialize the express server and print the PID number for the running process. "
   ]
  },
  {
   "cell_type": "code",
   "execution_count": 4,
   "metadata": {},
   "outputs": [
    {
     "name": "stdout",
     "output_type": "stream",
     "text": [
      "node ./app/index.js --baseUrl http://localhost:8888/ --token=b470d8220c282f551ffe18c3f3fefadebd5d430f9442f196\n",
      "loading express... \n",
      "IPySig express has started... PID: 18837\n"
     ]
    }
   ],
   "source": [
    "ctrl = IPySig('./app')"
   ]
  },
  {
   "cell_type": "markdown",
   "metadata": {},
   "source": [
    "Let's make two networkx graphs, Gary and Harry, and create session visualization tabs for them.\n",
    "\n",
    "To bring up the visualization tabs we pass in the object instance and a unique identifier to the controllers `connect` method. This key name is important because it binds the browser tab's socket id to a reference of the object.\n",
    "\n",
    "After executing each cell the visualization tab should open and by entering a `title name` for the graph pressing `Load Graph`, the graph visualization object should appear. This object reference is stored both in the IPySig controller instance and in the browser via a Loki.js datastore.\n",
    "\n",
    "In our current demo, v0.1.0, we can only store one graph at a time per session.\n"
   ]
  },
  {
   "cell_type": "code",
   "execution_count": 39,
   "metadata": {},
   "outputs": [
    {
     "name": "stdout",
     "output_type": "stream",
     "text": [
      "DEBUG:requests.packages.urllib3.connectionpool:Starting new HTTP connection (1): localhost\n",
      "DEBUG:requests.packages.urllib3.connectionpool:http://localhost:3000 \"GET /socket.io/?EIO=3&transport=polling&t=1502046609317-0 HTTP/1.1\" 200 101\n",
      "DEBUG:socketIO-client:localhost:3000/socket.io [engine.io transport selected] websocket\n",
      "DEBUG:socketIO-client:localhost:3000/socket.io [engine.io heartbeat reset]\n",
      "DEBUG:socketIO-client:localhost:3000/socket.io [socket.io packet sent] 0/py,\n",
      "DEBUG:socketIO-client:localhost:3000/socket.io /py [socket.io waiting for connection]\n",
      "DEBUG:socketIO-client:localhost:3000/socket.io [socket.io packet received] 0\n",
      "DEBUG:socketIO-client:localhost:3000/socket.io [socket.io connected]\n",
      "DEBUG:socketIO-client:localhost:3000/socket.io /py [socket.io waiting for connection]\n",
      "DEBUG:socketIO-client:localhost:3000/socket.io /py [socket.io waiting for connection]\n",
      "DEBUG:socketIO-client:localhost:3000/socket.io [socket.io packet received] 0/py\n",
      "DEBUG:socketIO-client:localhost:3000/socket.io /py [socket.io connected]\n",
      "DEBUG:socketIO-client:localhost:3000/socket.io [socket.io packet sent] 2/py,[\"py-object-name\", \"Gary\"]\n",
      "DEBUG:socketIO-client:localhost:3000/socket.io [socket.io packet received] 2/py,[\"pyconnect_response\",{\"echo_name\":\"Gary\",\"http_port\":\"3000\"}]\n",
      "{u'echo_name': u'Gary', u'http_port': u'3000'}\n",
      "Node received: Gary\n"
     ]
    }
   ],
   "source": [
    "G = nx.random_regular_graph(5,50)\n",
    "ctrl.connect(G, 'Gary')"
   ]
  },
  {
   "cell_type": "code",
   "execution_count": null,
   "metadata": {
    "collapsed": true
   },
   "outputs": [],
   "source": [
    "H = nx.random_regular_graph(5,10)\n",
    "ctrl.connect(H, 'Harry')\n"
   ]
  },
  {
   "cell_type": "markdown",
   "metadata": {},
   "source": [
    "Quite a bit of functionality for our IPySig controller and node application is still under development.\n",
    "\n",
    "Our current demo does not yet support disconnect/reconnect methods and auto-kill of the server process when the kernel is accidentally or unexpectedly shuts down. \n",
    "\n",
    "So to cleanly exit the application for now we need to kill the express process manually  "
   ]
  },
  {
   "cell_type": "code",
   "execution_count": null,
   "metadata": {
    "collapsed": true
   },
   "outputs": [],
   "source": [
    "ctrl.kill_express_process()\n"
   ]
  },
  {
   "cell_type": "code",
   "execution_count": null,
   "metadata": {
    "collapsed": true
   },
   "outputs": [],
   "source": []
  },
  {
   "cell_type": "code",
   "execution_count": 2,
   "metadata": {
    "collapsed": true
   },
   "outputs": [],
   "source": [
    "import pickle\n",
    "import os\n",
    "\n",
    "pkl_g = os.path.abspath(os.path.join('.','IPySig_demo_data', 'stars_test_graph.pkl'))\n",
    "stars_graph = pickle.load(open(pkl_g, \"rb\" ))"
   ]
  },
  {
   "cell_type": "code",
   "execution_count": 21,
   "metadata": {},
   "outputs": [
    {
     "name": "stdout",
     "output_type": "stream",
     "text": [
      "DEBUG:requests.packages.urllib3.connectionpool:Starting new HTTP connection (1): localhost\n",
      "DEBUG:requests.packages.urllib3.connectionpool:http://localhost:3000 \"GET /socket.io/?EIO=3&transport=polling&t=1502044100253-0 HTTP/1.1\" 200 101\n",
      "DEBUG:socketIO-client:localhost:3000/socket.io [engine.io transport selected] websocket\n",
      "DEBUG:socketIO-client:localhost:3000/socket.io [engine.io heartbeat reset]\n",
      "DEBUG:socketIO-client:localhost:3000/socket.io [socket.io packet sent] 0/py,\n",
      "DEBUG:socketIO-client:localhost:3000/socket.io /py [socket.io waiting for connection]\n",
      "DEBUG:socketIO-client:localhost:3000/socket.io [socket.io packet received] 0\n",
      "DEBUG:socketIO-client:localhost:3000/socket.io [socket.io connected]\n",
      "DEBUG:socketIO-client:localhost:3000/socket.io /py [socket.io waiting for connection]\n",
      "DEBUG:socketIO-client:localhost:3000/socket.io /py [socket.io waiting for connection]\n",
      "DEBUG:socketIO-client:localhost:3000/socket.io [socket.io packet received] 0/py\n",
      "DEBUG:socketIO-client:localhost:3000/socket.io /py [socket.io connected]\n",
      "DEBUG:socketIO-client:localhost:3000/socket.io [socket.io packet sent] 2/py,[\"py-object-name\", \"stars\"]\n",
      "DEBUG:socketIO-client:localhost:3000/socket.io [socket.io packet received] 2/py,[\"pyconnect_response\",{\"echo_name\":\"stars\",\"http_port\":\"3000\"}]\n",
      "{u'echo_name': u'stars', u'http_port': u'3000'}\n",
      "Node received: stars\n"
     ]
    }
   ],
   "source": [
    "ctrl.connect(stars_graph,'stars')"
   ]
  },
  {
   "cell_type": "code",
   "execution_count": null,
   "metadata": {
    "collapsed": true
   },
   "outputs": [],
   "source": []
  },
  {
   "cell_type": "code",
   "execution_count": null,
   "metadata": {
    "collapsed": true
   },
   "outputs": [],
   "source": []
  },
  {
   "cell_type": "code",
   "execution_count": null,
   "metadata": {
    "collapsed": true
   },
   "outputs": [],
   "source": []
  },
  {
   "cell_type": "code",
   "execution_count": null,
   "metadata": {
    "collapsed": true
   },
   "outputs": [],
   "source": []
  },
  {
   "cell_type": "code",
   "execution_count": null,
   "metadata": {
    "collapsed": true
   },
   "outputs": [],
   "source": []
  }
 ],
 "metadata": {
  "kernelspec": {
   "display_name": "Python 2",
   "language": "python",
   "name": "python2"
  },
  "language_info": {
   "codemirror_mode": {
    "name": "ipython",
    "version": 2
   },
   "file_extension": ".py",
   "mimetype": "text/x-python",
   "name": "python",
   "nbconvert_exporter": "python",
   "pygments_lexer": "ipython2",
   "version": "2.7.13"
  }
 },
 "nbformat": 4,
 "nbformat_minor": 2
}
